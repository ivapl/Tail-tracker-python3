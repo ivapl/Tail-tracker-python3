{
 "cells": [
  {
   "cell_type": "code",
   "execution_count": null,
   "metadata": {},
   "outputs": [
    {
     "name": "stdout",
     "output_type": "stream",
     "text": [
      "Processing:  E064-A2_2dots_L-3deg_R-2deg_10-70@40ds_T1 - Copy.avi\n",
      "Click on start of the fish's tail\n"
     ]
    }
   ],
   "source": [
    "from filepicker import *  # SQ*\n",
    "import os\n",
    "from tailfit9 import *\n",
    "\n",
    "if __name__ == \"__main__\":\n",
    "\n",
    "    ### USER INPUT HERE ###\n",
    "    folder = pickdir()\n",
    "\n",
    "    # READ ALL THE AVIS FILES WITHIN THAT FOLDER\n",
    "    filenames = os.listdir(folder)\n",
    "    avis = [filename for filename in filenames if os.path.splitext(filename)[1] == '.avi']\n",
    "    output_dir = os.path.join(folder, 'tail-angle')\n",
    "    if not os.path.exists(output_dir): \n",
    "        os.makedirs(output_dir)\n",
    "        \n",
    "    # Initiate variables needed for tailfit function\n",
    "    tail_fitting = 'y'\n",
    "    tail_startpoint = None\n",
    "    \n",
    "    for avi in avis:\n",
    "        print('Processing: ', avi)  \n",
    "        file = avi.replace(\".avi\", \"\")\n",
    "        if tail_fitting == 'y':\n",
    "            display = True\n",
    "            displayonlyfirst = True\n",
    "\n",
    "            'TAIL FITTTING'\n",
    "            video_path = os.path.join(folder, avi)\n",
    "            if type(tail_startpoint) == type(None):\n",
    "                tail_startpoint = tailfit_batch([video_path], display, displayonlyfirst,\n",
    "                                                                     output = os.path.join(output_dir,  file + '.csv'),\n",
    "                                                                     reuse_startpoint=True)\n",
    "            else:\n",
    "                display = True\n",
    "                tail_startpoint = tailfit_batch([video_path], display, displayonlyfirst,\n",
    "                                                                     output = os.path.join(output_dir,  file + '.csv'),\n",
    "                                                                     reuse_startpoint=True,\n",
    "                                                                     tail_startpoint=tail_startpoint)\n",
    "\n",
    "print('FINISHED ANALYZING TAIL')"
   ]
  },
  {
   "cell_type": "code",
   "execution_count": null,
   "metadata": {},
   "outputs": [],
   "source": []
  },
  {
   "cell_type": "code",
   "execution_count": null,
   "metadata": {},
   "outputs": [],
   "source": []
  },
  {
   "cell_type": "code",
   "execution_count": null,
   "metadata": {},
   "outputs": [],
   "source": []
  }
 ],
 "metadata": {
  "kernelspec": {
   "display_name": "Python 3",
   "language": "python",
   "name": "python3"
  },
  "language_info": {
   "codemirror_mode": {
    "name": "ipython",
    "version": 3
   },
   "file_extension": ".py",
   "mimetype": "text/x-python",
   "name": "python",
   "nbconvert_exporter": "python",
   "pygments_lexer": "ipython3",
   "version": "3.7.6"
  }
 },
 "nbformat": 4,
 "nbformat_minor": 2
}
